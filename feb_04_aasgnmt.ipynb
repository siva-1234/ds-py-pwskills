{
 "cells": [
  {
   "cell_type": "markdown",
   "id": "9baf504f-08cb-452a-bb88-bcb52719c981",
   "metadata": {},
   "source": [
    "Question:1"
   ]
  },
  {
   "cell_type": "code",
   "execution_count": null,
   "id": "1e383108-31ba-464b-a75d-902587f14af3",
   "metadata": {},
   "outputs": [],
   "source": [
    "lst1 = [('Sachin Tendulkar', 34357), ('Ricky Ponting', 27483), ('Jack Kallis', 25534), ('Virat Kohli', 24936)]\n",
    "lst1.sort(key = lambda x : x[1])\n",
    "print(lst)"
   ]
  },
  {
   "cell_type": "markdown",
   "id": "c9b2acc1-9ecb-4277-9131-23da00d603fc",
   "metadata": {},
   "source": [
    "Question:2"
   ]
  },
  {
   "cell_type": "code",
   "execution_count": 9,
   "id": "c5c05fb5-e320-44b1-b580-5bf126b4b24b",
   "metadata": {},
   "outputs": [
    {
     "name": "stdout",
     "output_type": "stream",
     "text": [
      "[1, 4, 9, 16, 25, 36, 49, 64, 81, 100]\n"
     ]
    }
   ],
   "source": [
    "lst2=[1, 2, 3, 4, 5, 6, 7, 8, 9, 10]\n",
    "sq = list(map(lambda x:x**2, lst2))\n",
    "print(sq)"
   ]
  },
  {
   "cell_type": "markdown",
   "id": "1df5582b-310f-4584-bb8f-fa7614994caa",
   "metadata": {},
   "source": [
    "Question:3"
   ]
  },
  {
   "cell_type": "code",
   "execution_count": 11,
   "id": "ad063acd-d960-4543-a465-c871ebaca15f",
   "metadata": {},
   "outputs": [
    {
     "name": "stdout",
     "output_type": "stream",
     "text": [
      "('1', '2', '3', '4', '5', '6', '7', '8', '9', '10')\n"
     ]
    }
   ],
   "source": [
    "lst3=[1, 2, 3, 4, 5, 6, 7, 8, 9, 10]\n",
    "str_cast= tuple(map(lambda x:str(x), lst3))\n",
    "print(str_cast)"
   ]
  },
  {
   "cell_type": "markdown",
   "id": "ea3d39b3-7da8-4dcf-8d7f-ca1d8f4b8f0b",
   "metadata": {},
   "source": [
    "Question:4"
   ]
  },
  {
   "cell_type": "code",
   "execution_count": 15,
   "id": "76e62092-277d-4978-a2c0-b2ef9a0af02a",
   "metadata": {},
   "outputs": [
    {
     "name": "stdout",
     "output_type": "stream",
     "text": [
      "15511210043330985984000000\n"
     ]
    }
   ],
   "source": [
    "from functools import reduce\n",
    "lst4=[]\n",
    "for i in range(1,26):\n",
    "    lst4.append(i)\n",
    "#print(lst4)\n",
    "product= reduce(lambda x,y:x*y,lst4)\n",
    "print(product)"
   ]
  },
  {
   "cell_type": "markdown",
   "id": "72e0c2ef-9999-4903-8dc8-22e256384e62",
   "metadata": {},
   "source": [
    "Question:5"
   ]
  },
  {
   "cell_type": "code",
   "execution_count": 16,
   "id": "6c3cceaa-5d9d-420e-a3ff-1c3f5d9d5bf3",
   "metadata": {},
   "outputs": [
    {
     "name": "stdout",
     "output_type": "stream",
     "text": [
      "[6, 60, 90, 120]\n"
     ]
    }
   ],
   "source": [
    "lst5=[2, 3, 6, 9, 27, 60, 90, 120, 55, 46]\n",
    "div=list(filter(lambda x:x%2==0 and x%3==0,lst5))\n",
    "print(div)"
   ]
  },
  {
   "cell_type": "markdown",
   "id": "abd973d5-1c76-4103-939c-ced0572f0de2",
   "metadata": {},
   "source": [
    "Question:6"
   ]
  },
  {
   "cell_type": "code",
   "execution_count": 17,
   "id": "29b9566c-bf1b-4938-9024-864cacd53b1e",
   "metadata": {},
   "outputs": [
    {
     "name": "stdout",
     "output_type": "stream",
     "text": [
      "['php', 'aba', 'radar', 'level']\n"
     ]
    }
   ],
   "source": [
    "lst6=['python', 'php', 'aba', 'radar', 'level']\n",
    "palindrome=list(filter(lambda x: (x == \"\".join(reversed(x))), lst6)) \n",
    "print(palindrome)"
   ]
  }
 ],
 "metadata": {
  "kernelspec": {
   "display_name": "Python 3 (ipykernel)",
   "language": "python",
   "name": "python3"
  },
  "language_info": {
   "codemirror_mode": {
    "name": "ipython",
    "version": 3
   },
   "file_extension": ".py",
   "mimetype": "text/x-python",
   "name": "python",
   "nbconvert_exporter": "python",
   "pygments_lexer": "ipython3",
   "version": "3.10.8"
  }
 },
 "nbformat": 4,
 "nbformat_minor": 5
}
