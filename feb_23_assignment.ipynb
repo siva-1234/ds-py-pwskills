{
 "cells": [
  {
   "cell_type": "markdown",
   "id": "ca5cb02e-18f2-4c1c-ba2c-9ee8c8f69b8d",
   "metadata": {},
   "source": [
    "Question:1\n",
    "characteristics:-\n",
    "1. Tuples are ordered elements or values that can't be \"mutable\"\n",
    "2. Tuples stores teh duplicate values\n",
    "3. The values in tuples can be of one data type or a mix of data types\n",
    "\n",
    "Yes. Tuples are immutable"
   ]
  },
  {
   "cell_type": "markdown",
   "id": "42c5d3ac-7508-4bc1-a9e4-c826d789bba4",
   "metadata": {
    "tags": []
   },
   "source": [
    "--------------------------------------------------------------------------------------------------------------------------------------"
   ]
  },
  {
   "cell_type": "code",
   "execution_count": 4,
   "id": "824f44c4-efb5-4a37-90c4-163870b1a29d",
   "metadata": {},
   "outputs": [
    {
     "name": "stdout",
     "output_type": "stream",
     "text": [
      "3\n"
     ]
    },
    {
     "data": {
      "text/plain": [
       "\" \\n Lists can be mutable. So it allows the mutable methods o happen to its container. Coming to the tuples, we can't maipulate the values \\n inside he tuple but it allows to make a count and fetch the value at with the desired position. \\n\""
      ]
     },
     "execution_count": 4,
     "metadata": {},
     "output_type": "execute_result"
    }
   ],
   "source": [
    "# Question:2\n",
    "#Two methods of tuple\n",
    "thistuple = (1, 3, 7, 8, 7, 5, 4, 6, 8, 5)\n",
    "x = thistuple.count(5) # Returns the presence of the number of times a specified value\n",
    "x = thistuple.index(8) # Returns the position of the element in the tuple\n",
    "print(x)\n",
    "\n",
    "\"\"\" \n",
    " Lists can be mutable. So it allows the mutable methods o happen to its container. Coming to the tuples, we can't maipulate the values \n",
    " inside he tuple but it allows to make a count and fetch the value at with the desired position. \n",
    "\"\"\""
   ]
  },
  {
   "cell_type": "markdown",
   "id": "65a64ba0-2b18-4f17-adb0-6b451277930f",
   "metadata": {},
   "source": [
    "--------------------------------------------------------------------------------------------------------------------------------------"
   ]
  },
  {
   "cell_type": "markdown",
   "id": "debed462-1ffa-4856-8546-28b14e14812b",
   "metadata": {},
   "source": [
    "Question:3\n",
    "Set is the data type type that does not allows to duplicate the elements"
   ]
  },
  {
   "cell_type": "code",
   "execution_count": 5,
   "id": "6eed12bd-e776-47f9-8168-a58817190a9e",
   "metadata": {},
   "outputs": [
    {
     "name": "stdout",
     "output_type": "stream",
     "text": [
      "{1, 2, 3, 4}\n"
     ]
    }
   ],
   "source": [
    "#Question:3\n",
    "lst = [1, 1, 1, 2, 1, 3, 1, 4, 2, 1, 2, 2, 2, 3, 2, 4, 3, 1, 3, 2, 3, 3, 3, 4, 4, 1, 4, 2, 4, 3, 4, 4]\n",
    "st = set(lst)\n",
    "print(st)"
   ]
  },
  {
   "cell_type": "markdown",
   "id": "a29acacb-f644-41f9-a126-b6d69b9e2b5b",
   "metadata": {},
   "source": [
    "--------------------------------------------------------------------------------------------------------------------------------------"
   ]
  },
  {
   "cell_type": "markdown",
   "id": "dbf03266-cc7a-4243-bc18-29e736b9069d",
   "metadata": {},
   "source": [
    "Question:4\n",
    "union() returns a set containing the union of sets\n",
    "update() updates a set with another set or any other iterable."
   ]
  },
  {
   "cell_type": "code",
   "execution_count": 7,
   "id": "82a6b224-ea68-4eb6-add8-37bb821c54a2",
   "metadata": {},
   "outputs": [
    {
     "name": "stdout",
     "output_type": "stream",
     "text": [
      "{'cherry', 'google', 'banana', 'microsoft', 'apple'}\n",
      "{'cherry', 'google', 'banana', 'microsoft', 'apple'}\n"
     ]
    }
   ],
   "source": [
    "x = {\"apple\", \"banana\", \"cherry\"}\n",
    "y = {\"google\", \"microsoft\", \"apple\"}\n",
    "\n",
    "z = x.union(y)\n",
    "x.update(y)\n",
    "\n",
    "print(z)\n",
    "print(x)"
   ]
  },
  {
   "cell_type": "markdown",
   "id": "d0c1d4b5-55d7-4f0b-9544-7b495c707ec4",
   "metadata": {
    "tags": []
   },
   "source": [
    "--------------------------------------------------------------------------------------------------------------------------------------"
   ]
  },
  {
   "cell_type": "markdown",
   "id": "c0ace42e-89f1-4267-b9a5-843a09272b8a",
   "metadata": {},
   "source": [
    "Question:5\n",
    "Dictionaries are used to store data values in key:value pairs.\n",
    "A dictionary is a collection which is ordered, changeable and do not allow duplicates.\n",
    "example:\n",
    "thisdict = {\n",
    "  \"brand\": \"Ford\",\n",
    "  \"model\": \"Mustang\",\n",
    "  \"year\": 1964\n",
    "}"
   ]
  },
  {
   "cell_type": "markdown",
   "id": "bc3278d7-c5dc-4623-ac07-afde4ec08bc6",
   "metadata": {},
   "source": [
    "-----------------------------------------------------------------------------------------------------------------------------------------"
   ]
  },
  {
   "cell_type": "code",
   "execution_count": 8,
   "id": "84295f50-7ffa-4fbb-a0f9-12e27bf490ca",
   "metadata": {},
   "outputs": [
    {
     "name": "stdout",
     "output_type": "stream",
     "text": [
      "{'child1': {'name': 'Emil', 'year': 2004}, 'child2': {'name': 'Tobias', 'year': 2007}, 'child3': {'name': 'Linus', 'year': 2011}}\n"
     ]
    }
   ],
   "source": [
    "#Question:6\n",
    "dictionary = {\n",
    "  \"child1\" : {\n",
    "    \"name\" : \"Emil\",\n",
    "    \"year\" : 2004\n",
    "  },\n",
    "  \"child2\" : {\n",
    "    \"name\" : \"Tobias\",\n",
    "    \"year\" : 2007\n",
    "  },\n",
    "  \"child3\" : {\n",
    "    \"name\" : \"Linus\",\n",
    "    \"year\" : 2011\n",
    "  }\n",
    "}\n",
    "\n",
    "print (dictionary)"
   ]
  },
  {
   "cell_type": "markdown",
   "id": "a46a67ee-7d9a-4018-ac72-72eac0ceb7de",
   "metadata": {},
   "source": [
    "-------------------------------------------------------------------------------------------------------------------------------------------"
   ]
  },
  {
   "cell_type": "code",
   "execution_count": null,
   "id": "6e2bd31d-0157-49e5-a791-d23f50a73e03",
   "metadata": {},
   "outputs": [],
   "source": [
    "Question:7\n",
    "dict1 = {'language' : 'Python', 'course': 'Data Science Masters'}\n",
    "p = dict1.setdefault('topics':'['Python', 'Machine Learning’, 'Deep Learning']')\n",
    "print(p)"
   ]
  },
  {
   "cell_type": "markdown",
   "id": "906b58c6-374e-4576-b828-03d17adb02eb",
   "metadata": {},
   "source": [
    "-------------------------------------------------------------------------------------------------------------------------------------------"
   ]
  },
  {
   "cell_type": "markdown",
   "id": "ec6d2dac-ef93-4aec-a40a-d5b711f8ba77",
   "metadata": {},
   "source": [
    "Question:8\n",
    "view objects of dictionary in python are 'keys, values and items'\n"
   ]
  },
  {
   "cell_type": "code",
   "execution_count": null,
   "id": "74dd976d-26ec-4f58-9326-95a14200d160",
   "metadata": {},
   "outputs": [],
   "source": [
    "dict2 = {'Sport': 'Cricket' , 'Teams': ['India', 'Australia', 'England', 'South Africa', 'Sri Lanka', 'New Zealand']}\n",
    "print(dict2.keys())\n",
    "print(dict2.values())"
   ]
  },
  {
   "cell_type": "markdown",
   "id": "dc0699f9-158b-40a9-9be6-b1b6ad5c4fda",
   "metadata": {},
   "source": [
    "-------------------------------------------------------------------------------------------------------------------------------------------"
   ]
  }
 ],
 "metadata": {
  "kernelspec": {
   "display_name": "Python 3 (ipykernel)",
   "language": "python",
   "name": "python3"
  },
  "language_info": {
   "codemirror_mode": {
    "name": "ipython",
    "version": 3
   },
   "file_extension": ".py",
   "mimetype": "text/x-python",
   "name": "python",
   "nbconvert_exporter": "python",
   "pygments_lexer": "ipython3",
   "version": "3.10.8"
  }
 },
 "nbformat": 4,
 "nbformat_minor": 5
}
