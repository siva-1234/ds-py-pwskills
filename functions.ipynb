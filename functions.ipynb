{
 "cells": [
  {
   "cell_type": "markdown",
   "id": "2aaeebe8-ca78-4980-bc44-2e0b4f9ae947",
   "metadata": {},
   "source": [
    "Question:1\n",
    "'def' is the keyword used to define a function."
   ]
  },
  {
   "cell_type": "code",
   "execution_count": 8,
   "id": "8f06b359-ba88-45f5-907a-772e368ff66b",
   "metadata": {},
   "outputs": [],
   "source": [
    "def odd(n):\n",
    "    for i in range(1,n+1):\n",
    "        if i%2!=0:\n",
    "            print(i)"
   ]
  },
  {
   "cell_type": "code",
   "execution_count": 9,
   "id": "75987718-26f7-495b-b4c0-a01ddd54524c",
   "metadata": {},
   "outputs": [
    {
     "name": "stdout",
     "output_type": "stream",
     "text": [
      "1\n",
      "3\n",
      "5\n",
      "7\n",
      "9\n",
      "11\n",
      "13\n",
      "15\n",
      "17\n",
      "19\n",
      "21\n",
      "23\n",
      "25\n"
     ]
    }
   ],
   "source": [
    "odd(25)"
   ]
  },
  {
   "cell_type": "markdown",
   "id": "e72bab1a-2c9f-4e53-b441-d07c775a8e25",
   "metadata": {},
   "source": [
    "--------------------------------------------------------------------------------------------------------------------------------------------"
   ]
  },
  {
   "cell_type": "markdown",
   "id": "255c7511-55cd-48b0-87ab-6a8eac482751",
   "metadata": {},
   "source": [
    "Question:2\n",
    "*Args and **Kwargs in function definitions in python is used to pass a variable number of arguments to a function. *args takes the arguments as tuple and **kwargs takes the arguments as dictionary."
   ]
  },
  {
   "cell_type": "code",
   "execution_count": 10,
   "id": "c70290a9-ce00-4a40-99b9-65e23ca5709a",
   "metadata": {},
   "outputs": [
    {
     "name": "stdout",
     "output_type": "stream",
     "text": [
      "1\n",
      "args\n",
      "to\n"
     ]
    }
   ],
   "source": [
    "def Fun1(*argv):\n",
    "    for arg in argv:\n",
    "        print(arg)\n",
    "  \n",
    "  \n",
    "Fun1(1, 'args', 'to')"
   ]
  },
  {
   "cell_type": "code",
   "execution_count": 11,
   "id": "f1c5e7b6-2fda-4082-b241-cbcbafd20bb7",
   "metadata": {},
   "outputs": [
    {
     "name": "stdout",
     "output_type": "stream",
     "text": [
      "{'a': 1, 'b': 'args', 'c': 'to'}\n",
      "{'a': 1, 'b': 'args', 'c': 'to'}\n",
      "{'a': 1, 'b': 'args', 'c': 'to'}\n"
     ]
    }
   ],
   "source": [
    "def Fun1(**kwargs):\n",
    "    for kwarg in kwargs.items():\n",
    "        print(kwargs)\n",
    "  \n",
    "  \n",
    "Fun1(a=1, b='args', c='to')"
   ]
  },
  {
   "cell_type": "markdown",
   "id": "4020e3ec-824b-41f3-a71f-9ba00a1968d5",
   "metadata": {},
   "source": [
    "--------------------------------------------------------------------------------------------------------------------------------------------"
   ]
  },
  {
   "cell_type": "markdown",
   "id": "cb4ebcb8-6cdc-4ca1-92de-a314e3e7514b",
   "metadata": {},
   "source": [
    "Question:3 Iterator is an object used to traverse through all the values.\n",
    "\t\t\t__iter__() __next__() is the method used for iterations.\n",
    "            "
   ]
  },
  {
   "cell_type": "code",
   "execution_count": 30,
   "id": "34e705b5-941c-44cf-9a6a-227d137fc680",
   "metadata": {},
   "outputs": [
    {
     "name": "stdout",
     "output_type": "stream",
     "text": [
      "[2, 4, 6, 8, 10]\n"
     ]
    }
   ],
   "source": [
    "lst = [2, 4, 6, 8, 10, 12, 14, 16,18, 20]\n",
    "itervalues= iter(lst)\n",
    "N = 5\n",
    "mylist = [x for index, x in enumerate(itervalues) if index < N]\n",
    "print(mylist)\n",
    "\n"
   ]
  },
  {
   "cell_type": "markdown",
   "id": "b561ab36-7201-434c-bd94-34e3ef58ded4",
   "metadata": {},
   "source": [
    "Question:4 Generators are the functions that returns an iterator that produces a sequence of values when they are iterated.\n",
    "\t\t   Yield is used to extract value from the generator"
   ]
  },
  {
   "cell_type": "code",
   "execution_count": 51,
   "id": "8ab8c309-2ff0-40c7-8778-af6b7e401dc0",
   "metadata": {},
   "outputs": [
    {
     "name": "stdout",
     "output_type": "stream",
     "text": [
      "0\n",
      "1\n",
      "2\n"
     ]
    }
   ],
   "source": [
    "def my_generator(n):\n",
    "    value = 0\n",
    "    while value < n:\n",
    "        yield value\n",
    "        value += 1\n",
    "for value in my_generator(3):\n",
    "\tprint(value)"
   ]
  },
  {
   "cell_type": "code",
   "execution_count": 60,
   "id": "05c8a7c0-afa3-4fd6-9ed8-ef56faf774b4",
   "metadata": {},
   "outputs": [
    {
     "name": "stdout",
     "output_type": "stream",
     "text": [
      "1\n",
      "2\n",
      "3\n",
      "5\n",
      "7\n",
      "11\n",
      "13\n",
      "17\n",
      "19\n"
     ]
    }
   ],
   "source": [
    "def prime(n):\n",
    "    for i in range(1,n):\n",
    "        for j in range(2,i):\n",
    "        \tif i%j==0:break\n",
    "        else:\n",
    "        \tyield i\n",
    "\n",
    "for value in prime(20):\n",
    "\tprint(value)"
   ]
  }
 ],
 "metadata": {
  "kernelspec": {
   "display_name": "Python 3 (ipykernel)",
   "language": "python",
   "name": "python3"
  },
  "language_info": {
   "codemirror_mode": {
    "name": "ipython",
    "version": 3
   },
   "file_extension": ".py",
   "mimetype": "text/x-python",
   "name": "python",
   "nbconvert_exporter": "python",
   "pygments_lexer": "ipython3",
   "version": "3.10.8"
  }
 },
 "nbformat": 4,
 "nbformat_minor": 5
}
